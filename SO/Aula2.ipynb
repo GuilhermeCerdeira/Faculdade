{
 "cells": [
  {
   "cell_type": "markdown",
   "id": "bb875ab1-8a69-40e0-903d-079709d6da0f",
   "metadata": {},
   "source": [
    "Após o linker juntar o arquivo.o com a lib.o surge um novo problema. Esquematizado no diagrama abaixo:"
   ]
  },
  {
   "cell_type": "markdown",
   "id": "b887a2b8-860d-4651-9f2e-60afb38e6980",
   "metadata": {},
   "source": [
    "Pelo exemplo do diagrama, se o linker colocar a função \"puts\" por exemplo na linha 200 da memória ram e o usuario desligar o computador. No outro dia o usuário pode estar usando outro aplicativo nessa mesma linha que o processador achava que era puts, e assim daria um conflito."
   ]
  },
  {
   "cell_type": "markdown",
   "id": "978dca14-d6bf-4f0b-94d6-608de00fc93f",
   "metadata": {},
   "source": [
    "Registrador IP: Instruction Pointer.\n",
    "Parte do processador que aponta para a instrução"
   ]
  },
  {
   "cell_type": "markdown",
   "id": "6bb8c6c3-8938-48c3-a65b-deb9b05311e2",
   "metadata": {},
   "source": [
    "### Exemplo de problema de **relocação**"
   ]
  },
  {
   "cell_type": "markdown",
   "id": "4194dfcd-8775-42f0-859b-567d59a661b3",
   "metadata": {},
   "source": [
    "(colocar o diagrama desenhado no caderno)\n"
   ]
  },
  {
   "cell_type": "markdown",
   "id": "597a73b7-b19b-49a9-9e0f-c6a3f5e81795",
   "metadata": {},
   "source": [
    "Esse problema é um problema designado para o S.O. resolver\n",
    "\n",
    "o número 5000 citados no diagrama é chamado de endereço de carga\n",
    "e o Sistema Operacional soma essa carga com a instrução do programa"
   ]
  },
  {
   "cell_type": "markdown",
   "id": "9ab9777c-a76a-4473-bbb6-0f8eb42464fd",
   "metadata": {},
   "source": [
    "### Tabela de Relações (executável gerado pelo linker)\n",
    "(desenhar diagrama aqui também)\n"
   ]
  },
  {
   "cell_type": "markdown",
   "id": "da1468b4-e6cb-4f47-bcc3-e588795eddd7",
   "metadata": {},
   "source": [
    "**Afinal qual é a função da tabela de relações?** <br>\n",
    "Ela é gerada pelo linker em todo arquivo para poder gerar uma espécie de legenda para as funções. Ela é utilizada pelo processador ao ler um programa na memória RAM"
   ]
  },
  {
   "cell_type": "markdown",
   "id": "c7ef917f-e968-4457-878f-5507c2ceff40",
   "metadata": {},
   "source": [
    "### Relocação por Hardware \n",
    "(desenhar o outro diagrama)"
   ]
  },
  {
   "cell_type": "markdown",
   "id": "aa9ab7d5-1878-4f05-87de-4d62e21aba67",
   "metadata": {},
   "source": [
    "Precisa de um registrador novo usado só para relocar as instruções, esse registrador chama BASE."
   ]
  },
  {
   "cell_type": "markdown",
   "id": "6a2664b4-3e0a-4ae9-a2aa-c57d3d5d2ac2",
   "metadata": {},
   "source": [
    "E dai surge um novo problema:<br>\n",
    "    char *p = rand();<br>\n",
    "    *p = 'x';<br>"
   ]
  },
  {
   "cell_type": "code",
   "execution_count": null,
   "id": "af309e94-86d4-4246-babb-2d10cd5e3e0b",
   "metadata": {},
   "outputs": [],
   "source": []
  }
 ],
 "metadata": {
  "kernelspec": {
   "display_name": "Python 3 (ipykernel)",
   "language": "python",
   "name": "python3"
  },
  "language_info": {
   "codemirror_mode": {
    "name": "ipython",
    "version": 3
   },
   "file_extension": ".py",
   "mimetype": "text/x-python",
   "name": "python",
   "nbconvert_exporter": "python",
   "pygments_lexer": "ipython3",
   "version": "3.12.2"
  }
 },
 "nbformat": 4,
 "nbformat_minor": 5
}
