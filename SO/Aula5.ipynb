{
 "cells": [
  {
   "cell_type": "markdown",
   "metadata": {},
   "source": [
    "## Mecanismo de Interrupção\n",
    "\n",
    "(diagrama)\n",
    "\n",
    "Para recever a informação de um periférico existe uma parte designada para o reconhecer e enfileirar as instruções. Uma maneira de indentificar o periférico é criar um vetor de funções que indica qual está sendo usado (vide diagrama desenhado).\n",
    "O controlador de interrupção prioriza alguns dispositivos como controlador de bateria etc. Os trechos de códigos contidos dentro do vetor de interrupção se chamam de device drivers ou tratador de Interrupções\n",
    "\n"
   ]
  },
  {
   "cell_type": "markdown",
   "metadata": {},
   "source": [
    "Quando o teclado é acionado, ele passa pelo controle de interrupção, depois o programa rodando na cpu é passado para pilha, o vetor de interrupção chama a função de tratar teclados, e a cpu volta para a pilha desinterrompendo o programa que estava rodando"
   ]
  },
  {
   "cell_type": "markdown",
   "metadata": {},
   "source": [
    "(diagrama)"
   ]
  },
  {
   "cell_type": "markdown",
   "metadata": {},
   "source": [
    "Somente o SO consegue conversar com periféricos por conta de segurança e organização"
   ]
  },
  {
   "cell_type": "markdown",
   "metadata": {},
   "source": [
    "(diagrama)"
   ]
  },
  {
   "cell_type": "markdown",
   "metadata": {},
   "source": []
  }
 ],
 "metadata": {
  "language_info": {
   "name": "python"
  }
 },
 "nbformat": 4,
 "nbformat_minor": 2
}
