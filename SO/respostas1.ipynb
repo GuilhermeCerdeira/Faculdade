{
 "cells": [
  {
   "cell_type": "markdown",
   "metadata": {},
   "source": [
    "1.1 Um compilador C não gera um arquivo executável diretamente do código-fonte pois o código primeiro precisa ser \"traduzido\" em linguagem de máquina primeiro. E para fazer isso ele precisa passar pelo compilador que o transforma em um arquivo .o. Além disso também é necessário juntar o arquivo .o junto com a biblioteca utilizada no código, essa biblioteca também tem formato .o e é juntada com um código por um processo chamado linking. Somente após isso é gerado o arquivo.exe"
   ]
  },
  {
   "cell_type": "markdown",
   "metadata": {},
   "source": [
    "1.2 A posição da sub-rotina main é alocada na memória RAM de acordo com o espaço disponível dentro da posição inicio e limite garantidas pelo Sistema Operacional"
   ]
  },
  {
   "cell_type": "markdown",
   "metadata": {},
   "source": [
    "1.3 Quem se importa é o sistema operacional que neste caso é encarregado de organizar os espaços disponíveis da memória RAM."
   ]
  },
  {
   "cell_type": "markdown",
   "metadata": {},
   "source": [
    "1.4 É possível executar dois programas simultaneamente pois, quando é aberto um novo programa, o SO guarda os valores dos registradores base ,limite, ip e sp e troca para o do novo programa aberto. "
   ]
  },
  {
   "cell_type": "markdown",
   "metadata": {},
   "source": [
    "2.1 O computador A que possui os registradores de BASE/LIMITE delimita o tamanho que um programa pode usar na memória RAM apartir desses dois registradores, e o computador B que não possui tais registradores tem que necessitar de ajudas externas do S.O. para delimitar os programas "
   ]
  },
  {
   "cell_type": "markdown",
   "metadata": {},
   "source": [
    "2.3 As CPUs multi-core conseguem atribuir diferentes ips para cada core, fazendo elas capazes de processarem diferentes instruções (consequente mente diferentes programas) ao mesmo tempo."
   ]
  },
  {
   "cell_type": "markdown",
   "metadata": {},
   "source": [
    "2.4 A BASE de um programa sempre vai ser iniciada no final do ultimo programa aberto, porém o limite é especificado pelo próprio programa, e se esse limite for extrapolado o programa é fechado pelo SO. (lembrar do que ele falou que tem uma flag de quando voce compila um programa em c para aumentar o tanto de espaço que ele pode usar)"
   ]
  },
  {
   "cell_type": "markdown",
   "metadata": {},
   "source": [
    "4.1 O problema desse código é que ele retorna o endereço de uma variável alocada localmente, portanto, depois da função acabar essa memória será desalocada e o endereço retornado vai ser de algo aleatório."
   ]
  },
  {
   "cell_type": "markdown",
   "metadata": {},
   "source": [
    "4.2 os dados salvos para alternar entre os programas são os valores dos registradores IP SP BASE e LIMITE"
   ]
  },
  {
   "cell_type": "markdown",
   "metadata": {},
   "source": [
    "4.4 um jeito de determinar o tamanho máximo da pilha é fazer uma função recursiva que printa o seu tamanho até dar stack overflow.\n",
    "```c\n",
    "#include<stdio.h>\n",
    "#include<stdlib.h>\n",
    "\n",
    "int main(){\n",
    "    int depth = 0;\n",
    "    recursive_function(0);\n",
    "    return 0;\n",
    "}\n",
    "\n",
    "\n",
    "void recursive_function(int depth) {\n",
    "    int local_variable;\n",
    "    printf(\"Endereco da variavel local na pilha: %p\\n\", &local_variable);\n",
    "    printf(\"%d\", depth);\n",
    "\n",
    "    // Chama recursivamente a função até que a pilha estoure\n",
    "    recursive_function(depth + 1);\n",
    "}\n",
    "```"
   ]
  },
  {
   "cell_type": "markdown",
   "metadata": {},
   "source": [
    "4.5 para chamar o SO o aplicativo precisa fazer um processo passando pelo Vetor de Interrupção para poder acessar o SO com modo privilegiado"
   ]
  },
  {
   "cell_type": "markdown",
   "metadata": {},
   "source": [
    "4.6 Uma CPU quad-core teria quatro pilhas, uma dentro de cara core"
   ]
  },
  {
   "cell_type": "markdown",
   "metadata": {},
   "source": [
    "4.7 A resposta anterior continua válida, porém um ou mais cores vao ter que se responsabilizar por mais de um aplicaitivo"
   ]
  },
  {
   "cell_type": "markdown",
   "metadata": {},
   "source": [
    "4.8 a variável y ocuparia o mesmo lugar do x que foi desalocado"
   ]
  },
  {
   "cell_type": "markdown",
   "metadata": {},
   "source": [
    "4.9 \n",
    "\n",
    "variável local\n",
    "\n",
    "endereço de retorno da função\n",
    "\n",
    "argc\n",
    "\n",
    "argv"
   ]
  },
  {
   "cell_type": "markdown",
   "metadata": {},
   "source": [
    "5.1 O ataque não da certo pois Sistemas operacionais modernos tem no mínimo 4 maneiras de impedir ataques:\n",
    "<br>\n",
    "1.Trocar a função gets pro outra mais segura<br>\n",
    "2.Canaries, uma especie de flag que avisa o SO se o programa está retornando algo que nao deveria<br>\n",
    "3.Stack ramdomization, aleatorizar o lugar da pilha para que o hacker não saiba o endereço de retorno.<br>\n",
    "4.Data execution Prevention, o sistema operacional classifica entre código do programa e dados do computador."
   ]
  },
  {
   "cell_type": "markdown",
   "metadata": {},
   "source": [
    "5.2 Os dados que devem ser guardados sao os dados dos registradores de SP E IP"
   ]
  },
  {
   "cell_type": "markdown",
   "metadata": {},
   "source": [
    "5.3 "
   ]
  },
  {
   "cell_type": "markdown",
   "metadata": {},
   "source": [
    "5.4\n",
    "```c\n",
    "#include <stdio.h>\n",
    "#include <stdlib.h>\n",
    "\n",
    "void f () {\n",
    "\tint x = 321;\n",
    "\tprintf(\"x %d \\n\",x);\n",
    "}\n",
    "\n",
    "\n",
    "int main(){\n",
    "\t\n",
    "\tvoid (*ponteiro)() = &f;\n",
    "\n",
    "\tprintf(\"%p %p\", ponteiro, f);\n",
    "\t\n",
    "\tponteiro();\n",
    "\tf();\n",
    "\n",
    "\treturn 0;\n",
    "}\n",
    "```"
   ]
  },
  {
   "cell_type": "markdown",
   "metadata": {},
   "source": [
    "5.5 Uma proteção canário é capaz de detectar acessos invalidos durante a execução da função, pois conforme o usuário escreve além do que lhe foi permitido pelo SO, a flag de segurança do canário vai ativar e o programa será encerrado."
   ]
  },
  {
   "cell_type": "markdown",
   "metadata": {},
   "source": [
    "6.1"
   ]
  },
  {
   "cell_type": "markdown",
   "metadata": {},
   "source": [
    "6.2 read é uma função que lê somente arquivos binários, o fread() serve para que o SO leia um arquivo binário para o usuário"
   ]
  },
  {
   "cell_type": "markdown",
   "metadata": {},
   "source": []
  }
 ],
 "metadata": {
  "language_info": {
   "name": "python"
  }
 },
 "nbformat": 4,
 "nbformat_minor": 2
}
