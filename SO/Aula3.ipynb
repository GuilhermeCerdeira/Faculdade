{
 "cells": [
  {
   "cell_type": "markdown",
   "metadata": {},
   "source": [
    "## Chamada de função\n",
    "\n",
    "```\n",
    "int puts(){ <-- 1000\n",
    "    return; <-- 2050\n",
    "}\n",
    "\n",
    "int main(){ <-- 2000\n",
    "    puts(\"um\"); <-- call 1000\n",
    "    puts(\"dois); <-- call 1000\n",
    "}\n",
    "```\n",
    "\n",
    "A função ao retornar, vai até onde ela foi chamada + 1. Porém, há problemas se a função é chamada várias vezes ou se ela é recursiva.\n",
    "\n",
    "(diagrama 💀💀)\n",
    "\n",
    "se um programa cria uma pilha maior que o limite, a cpu detecta, chama o SO e o programa é encerrado\n",
    "\n"
   ]
  },
  {
   "cell_type": "markdown",
   "metadata": {},
   "source": [
    "## Variáveis Locais\n",
    "\n",
    "```\n",
    "void f(){  <-- 1000\n",
    "    int n;\n",
    "}\n",
    "int main(){  <-- 2000\n",
    "    f(); <-- call 1000\n",
    "}\n",
    "```\n",
    "\n",
    "outro diagrama explicando o stack frame\n",
    "\n",
    "\n",
    "okay então basicamente o processador precisa de um quarto registrador para alocar o lugar aonde a pilha está guardada na memória. Entao no total agora na cpu temos quatro registradores:\n",
    "\n",
    "BASE: O registrador que marca o começo do programa na memoria ram<br>\n",
    "LIMITE: O registrador que delimita o final do programa<br>\n",
    "IP(index pointer): aponta para qual informação ler<br>\n",
    "SP(Stack pointer): aponta para o começo da pilha<br>\n",
    "\n",
    "(para o computador lidar com dois programas ao mesmo tempo, os registradores da cpu mudam seus valores.)"
   ]
  },
  {
   "cell_type": "markdown",
   "metadata": {},
   "source": [
    "## BUFFER OVERFLOW\n",
    "\n",
    "```\n",
    "void f(){\n",
    "    char s[5];\n",
    "    gets(5);\n",
    "}\n",
    "```\n",
    "(desenhar a memória ram)\n",
    "\n",
    "A cpu não vai voltar para o mesmo lugar pois o endereço onde ela ia voltar está sobrescrito por \"F\""
   ]
  },
  {
   "cell_type": "markdown",
   "metadata": {},
   "source": [
    "### Ataque de buffer overflow\n",
    "\n",
    "(desenhar o diagrama)\n",
    "\n",
    "Se alguém injetar o caracter certo no endereço de retorno, é possível fazer com que seja chamada qualquer outra função da memória"
   ]
  },
  {
   "cell_type": "markdown",
   "metadata": {},
   "source": [
    "## Formas de parar ataque de Buffer Overflow:\n",
    "\n",
    "- 1: Trocar funções: fgets() é mais seguro\n",
    "\n",
    "- 2: Canaries/cookie(compilador) (china comunista):<br>\n",
    "    O compilador coloca uma flag depois de buffer e, se antes do retorno essa flag mudar, o compilador para o programa. \n",
    "\n",
    "- 3: ASLR (Adess Space Layout Randomization):<br>\n",
    "    A pilha é randomizada de lugar para que o atacante não saiba onde está o retorno\n",
    "\n",
    "- 4: DEP(Data execution Prevention)<br>\n",
    "    O sistema operacional classifica a memória entre dados e código. E se a cpu apontar para dados tem algo de errado e o programa é finalizado\n",
    "    "
   ]
  },
  {
   "cell_type": "markdown",
   "metadata": {},
   "source": []
  }
 ],
 "metadata": {
  "kernelspec": {
   "display_name": "Python 3",
   "language": "python",
   "name": "python3"
  },
  "language_info": {
   "name": "python",
   "version": "3.12.2"
  }
 },
 "nbformat": 4,
 "nbformat_minor": 2
}
