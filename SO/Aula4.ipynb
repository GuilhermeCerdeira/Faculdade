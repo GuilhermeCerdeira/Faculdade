{
 "cells": [
  {
   "cell_type": "markdown",
   "metadata": {},
   "source": [
    "## Entrada e Saída (Periféricos)\n",
    "\n",
    "(diagrama dos barramentos entre cpu e RAM)\n",
    "\n",
    "### $\\bullet$ 1) Entrada e saída mapeada em memória\n",
    "\n",
    "(diagrama da porta e entre a cpu a ram e o ssd)\n",
    "\n",
    "Explicação passo a passo: Quando a cpu gerar o endereço 7, os três fios vão mandar 1, vai passar pelo and e vai ser invertido para mandar 0 para o enable e a memória vai ser desligada. Logo o endereço 7 de memória RAM é perdido.\n",
    "\n",
    "```\n",
    "mov [7], AX  #escreve SSD\n",
    "mov AX, [7]  #lê SSD\n",
    "\n",
    "mov [6], AX  #escreve RAM\n",
    "mov ax, [6]  #lê RAM\n"
   ]
  },
  {
   "cell_type": "markdown",
   "metadata": {},
   "source": [
    "### $\\bullet$ 2) Portas de Entrada/Saída\n",
    "\n",
    "(diagrama 2)\n",
    "\n",
    "```\n",
    "mov [n], AX #escreve RAM\n",
    "mov ax, [n] #lê RAM\n",
    "\n",
    "OUT 7, AX  #escreve periférico\n",
    "IN AX, 7   #lê periférico\n",
    "\n",
    "(somente o só pode fazer isso)"
   ]
  },
  {
   "cell_type": "markdown",
   "metadata": {},
   "source": [
    "### $\\bullet$ 3) DMA Direct Memory Access\n",
    "\n",
    "(diagrama do dma)\n",
    "\n",
    "O controlador de DMA é uma espécie de um laço for entre a RAM e os periféricos\n",
    "\n",
    "E/S Mapeada e portas de E/S } PIO, Programmed I/O\n",
    "\n",
    "DMA (Ram cycle stealing)\n",
    "\n",
    "se a CPU quiser acessar a memória enquanto o DMA está usando, ela tem que usar o cache (lembrar da analogia da padaria)\n",
    "\n",
    "lógida de uma impressora que precisa esperar para escreve a próxima linha:\n",
    "```\n",
    "for(i  o ....){\n",
    "    send [i];\n",
    "    while(!ready){   <---- laço de espera ocupada\n",
    "        sleep;\n",
    "    }\n",
    "}\n",
    "```\n",
    "esse processo se chama polling"
   ]
  },
  {
   "cell_type": "markdown",
   "metadata": {},
   "source": [
    "E/S { Sincrona e assíncrona\n",
    "\n",
    "a maneira que E/S assíncrona funciona: ele \"encomenda\" a leitura e continua o processamento, e os dados são recebidos mais tarde."
   ]
  },
  {
   "cell_type": "markdown",
   "metadata": {},
   "source": [
    "### File streams, file descriptors \n",
    "\n",
    "File stream <-- <u> FILE *arq </u> = fopen(); <br>\n",
    "File descriptors <-- <u> int fd = open()</u> --> lê somente arquivo binário\n",
    " "
   ]
  },
  {
   "cell_type": "markdown",
   "metadata": {},
   "source": [
    "## Peseudo-Arquivos e dispositivos\n",
    "\n",
    "todo periférico é acessado usando: open, read/write, close\n",
    "\n",
    "eles são acessados assim para facilitar a vida dos programados, se nao fosse isso, todo periférico seria acessado de maneira diferente.\n",
    "\n",
    "também usamos para acessar informações de S.O. exemplos: <br> \n",
    "/proc/main.info<br>\n",
    "/proc/net<br>\n",
    "/proc/pid<br>\n",
    "\n",
    "resumindo: se todo periferico é usado da mesma maneira que arquivos, o SO os trata como arquivos, logo o nome pseudo-arquivos"
   ]
  },
  {
   "cell_type": "markdown",
   "metadata": {},
   "source": []
  }
 ],
 "metadata": {
  "language_info": {
   "name": "python"
  }
 },
 "nbformat": 4,
 "nbformat_minor": 2
}
